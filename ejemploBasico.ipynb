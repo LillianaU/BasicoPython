{
  "nbformat": 4,
  "nbformat_minor": 0,
  "metadata": {
    "colab": {
      "provenance": [],
      "authorship_tag": "ABX9TyP9qnoFyOmjUJ0Bhz/8W/4m",
      "include_colab_link": true
    },
    "kernelspec": {
      "name": "python3",
      "display_name": "Python 3"
    },
    "language_info": {
      "name": "python"
    }
  },
  "cells": [
    {
      "cell_type": "markdown",
      "metadata": {
        "id": "view-in-github",
        "colab_type": "text"
      },
      "source": [
        "<a href=\"https://colab.research.google.com/github/LillianaU/BasicoPython/blob/main/ejemploBasico.ipynb\" target=\"_parent\"><img src=\"https://colab.research.google.com/assets/colab-badge.svg\" alt=\"Open In Colab\"/></a>"
      ]
    },
    {
      "cell_type": "markdown",
      "source": [
        "MI primer codigo en python"
      ],
      "metadata": {
        "id": "bohKReT9TQll"
      }
    },
    {
      "cell_type": "markdown",
      "source": [
        "# introduccion a la programacion"
      ],
      "metadata": {
        "id": "ylPp69rhTYGE"
      }
    },
    {
      "cell_type": "code",
      "execution_count": 2,
      "metadata": {
        "colab": {
          "base_uri": "https://localhost:8080/"
        },
        "id": "_ZeTxvVySp5Q",
        "outputId": "182f6948-d84d-4ef7-8fea-1fff64ce8ee6"
      },
      "outputs": [
        {
          "output_type": "stream",
          "name": "stdout",
          "text": [
            "HOLA Chicos y chicas  hermosas\n"
          ]
        }
      ],
      "source": [
        "print (\"HOLA Chicos y chicas  hermosas\")"
      ]
    },
    {
      "cell_type": "code",
      "source": [
        "print(\"este programa resuleve la siguiente formular total=a**(n+m)\")\n",
        "# potencia es **\n",
        "\"\"\"\n",
        "estamos aplicando analisis de una formula matematica, con el fin de  indentificar, entradas, procesos y salidad\n",
        "\"\"\"\n",
        "#entradas\n",
        "a =int(input(\"ingresa a\"))\n",
        "n=int(input(\"ingrese n\"))\n",
        "m=int(input(\"ingresamos m\"))\n",
        "#procesos\n",
        "total=a**(n+m)\n",
        "#salidas\n",
        "print(f\"el total es: {total}\")"
      ],
      "metadata": {
        "colab": {
          "base_uri": "https://localhost:8080/"
        },
        "id": "DREkJju35p49",
        "outputId": "8af25fa0-cbd7-49d6-d1ec-741c170eb440"
      },
      "execution_count": 1,
      "outputs": [
        {
          "output_type": "stream",
          "name": "stdout",
          "text": [
            "este programa resuleve la siguiente formular total=a**(n+m)\n",
            "ingresa a3\n",
            "ingrese n5\n",
            "ingresamos m2\n",
            "el total es: 2187\n"
          ]
        }
      ]
    }
  ]
}