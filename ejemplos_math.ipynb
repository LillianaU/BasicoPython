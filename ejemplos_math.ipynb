{
  "nbformat": 4,
  "nbformat_minor": 0,
  "metadata": {
    "colab": {
      "provenance": []
    },
    "kernelspec": {
      "name": "python3",
      "display_name": "Python 3"
    },
    "language_info": {
      "name": "python"
    }
  },
  "cells": [
    {
      "cell_type": "code",
      "execution_count": null,
      "metadata": {
        "colab": {
          "base_uri": "https://localhost:8080/"
        },
        "id": "zVO50YzRUJhp",
        "outputId": "2ee0820f-80f8-4571-f4e3-4f3376985bad"
      },
      "outputs": [
        {
          "output_type": "stream",
          "name": "stdout",
          "text": [
            "el resultado de la pontencia es  27.0\n",
            "el resultado  de la raiz cuadrada  2.0\n",
            "devuelve entero  1\n",
            "tambien la funcion trunc devuelve un entero  1\n",
            "analizando un valor -1 False\n"
          ]
        }
      ],
      "source": [
        "\"\"\"\n",
        "python tiene una libreria muy amplia de funciones matematicas para su uso, adicional cuenta tambien con numpy\n",
        "que complementa con librerias de uso para arrays(vectores y matrices), tambien como uso de funciones estadisiticas,\n",
        "son muchas segun su necesidad\n",
        "\"\"\"\n",
        "\n",
        "#ejemplo de raiz cuadrada\n",
        "import math\n",
        "#potencia=math.pow(numero que queremos elevar, las veces lapotencia)\n",
        "potencia=math.pow(3, 3)\n",
        "print(\"el resultado de la pontencia es \",potencia)\n",
        "#como se hace una raiz es con math.sqrt()\n",
        "raiz=math.sqrt(4)\n",
        "print(\"el resultado  de la raiz cuadrada \", raiz)\n",
        "# redondeo de numeros decimales\n",
        "numero=1.2356\n",
        "numero= math.floor(numero)\n",
        "print(\"devuelve entero \", numero)\n",
        "print(\"tambien la funcion trunc devuelve un entero \",math.trunc(numero))\n",
        "\n",
        "print(\"analizando un valor -1\",math.isinf(-1))\n"
      ]
    },
    {
      "cell_type": "code",
      "source": [
        "print(\"devulve un angulo en este caso seno\", math.sin(40))"
      ],
      "metadata": {
        "colab": {
          "base_uri": "https://localhost:8080/"
        },
        "id": "x9Bs86T2bxea",
        "outputId": "5ee413dc-9a27-4d00-e555-a31cf8605c60"
      },
      "execution_count": null,
      "outputs": [
        {
          "output_type": "stream",
          "name": "stdout",
          "text": [
            "devulve un angulo en este caso seno 0.7451131604793488\n"
          ]
        }
      ]
    },
    {
      "cell_type": "code",
      "source": [
        "import numpy as np\n",
        "\n",
        "numero3=np.random.rand(5)\n",
        "print(\"numero aleatorio \",numero3)"
      ],
      "metadata": {
        "colab": {
          "base_uri": "https://localhost:8080/"
        },
        "id": "X4NU8-8xdh50",
        "outputId": "40b2248c-bf0e-4252-ff10-84068962d44f"
      },
      "execution_count": null,
      "outputs": [
        {
          "output_type": "stream",
          "name": "stdout",
          "text": [
            "numero aleatorio  [0.59874539 0.95522582 0.87969426 0.16978005 0.38812362]\n"
          ]
        }
      ]
    },
    {
      "cell_type": "code",
      "source": [
        "import random\n",
        "numero_aleatorio=random.randint(2,20)\n",
        "print(\"nuemro aleatio entero de 1 al 100----> \", numero_aleatorio)"
      ],
      "metadata": {
        "colab": {
          "base_uri": "https://localhost:8080/"
        },
        "id": "ZgxNtQl5n-oZ",
        "outputId": "067ad52f-f5f9-4f78-91cb-d94594738e8c"
      },
      "execution_count": null,
      "outputs": [
        {
          "output_type": "stream",
          "name": "stdout",
          "text": [
            "nuemro aleatio entero de 1 al 100---->  7\n"
          ]
        }
      ]
    },
    {
      "cell_type": "code",
      "source": [
        "# se da dos numeros 12>3 su resultado  es verdadero por que 12 es mayor\n",
        "numero=12\n",
        "numero1=3\n",
        "print(\"12 es mayor \", numero>numero1)"
      ],
      "metadata": {
        "colab": {
          "base_uri": "https://localhost:8080/"
        },
        "id": "dRVTs_MIspxt",
        "outputId": "9fbd01d1-b1e4-47ec-de89-1af537270924"
      },
      "execution_count": null,
      "outputs": [
        {
          "output_type": "stream",
          "name": "stdout",
          "text": [
            "12 es mayor  True\n"
          ]
        }
      ]
    },
    {
      "cell_type": "code",
      "source": [
        "\"\"\"este ejercicio evalua si dos numeros son iguales, es decir en python igualacin o comparacion es == tal como\n",
        "lo muestra el ejercicio\n",
        "\"\"\"\n",
        "print(\"tenemos este valor 24=24 decir si es verdadero \",24==24)"
      ],
      "metadata": {
        "colab": {
          "base_uri": "https://localhost:8080/"
        },
        "id": "n_EBLVdMtY8V",
        "outputId": "35d41de1-bf30-454b-8fb9-52c228eb7a93"
      },
      "execution_count": null,
      "outputs": [
        {
          "output_type": "stream",
          "name": "stdout",
          "text": [
            "tenemos este valor 24=24 decir si es verdadero  True\n"
          ]
        }
      ]
    },
    {
      "cell_type": "code",
      "source": [
        "\"\"\"\n",
        "tenemos dos numeros iguales pero lo estamos haciendo la comparacion con >= los numeros son 12>=12\n",
        "el resultado va ser verdadero, porque  12 es igual a doce, es decir, internamente el programa encontro que\n",
        "no cumple el mayor pero si cumple que sea igual\n",
        "\"\"\"\n",
        "print(\"evaluando 12>=12 es verdadero?  \", 12>=12)"
      ],
      "metadata": {
        "colab": {
          "base_uri": "https://localhost:8080/"
        },
        "id": "df-E6Cjit8D9",
        "outputId": "fa4e595b-2553-4302-aa4a-cca38777e057"
      },
      "execution_count": null,
      "outputs": [
        {
          "output_type": "stream",
          "name": "stdout",
          "text": [
            "evaluando 12>=12 es verdadero?   True\n"
          ]
        }
      ]
    },
    {
      "cell_type": "code",
      "source": [
        "# ejemplo de negacion\n",
        "\n",
        "print(\"12 no es mayor que 3?\", 12!=3 )"
      ],
      "metadata": {
        "colab": {
          "base_uri": "https://localhost:8080/"
        },
        "id": "oVjMgK-vxJ7_",
        "outputId": "69fed5cf-0270-4009-e450-312b896a152b"
      },
      "execution_count": null,
      "outputs": [
        {
          "output_type": "stream",
          "name": "stdout",
          "text": [
            "12 no es mayor que 3? True\n"
          ]
        }
      ]
    },
    {
      "cell_type": "code",
      "source": [
        "# ejemplo de negacion\n",
        "\n",
        "print(\"12  = 3? \", 12==3 )"
      ],
      "metadata": {
        "colab": {
          "base_uri": "https://localhost:8080/"
        },
        "id": "KS3nlXEGxXoD",
        "outputId": "7b9a857a-6d49-4ce6-96de-c3bfd009536c"
      },
      "execution_count": null,
      "outputs": [
        {
          "output_type": "stream",
          "name": "stdout",
          "text": [
            "12  = 3?  False\n"
          ]
        }
      ]
    },
    {
      "cell_type": "code",
      "source": [
        "\"\"\"\n",
        "pyrhon no es necesario o por decir asi no es como node ni java para trabajar si necesita llamar una clase \n",
        "que es predetermiada por el luenguaje para poder ingresar valores de teclado por con solola.\n",
        "con python solo es   llamar la funcion  \"input\" que es para ingrear, por defecto todos los calores son tipo\n",
        "texto ejemplo\n",
        "\"\"\"\n",
        "entrada=input(\"digite cualquier cosa\")\n",
        "print(\"entrada de teclado es \", entrada)"
      ],
      "metadata": {
        "colab": {
          "base_uri": "https://localhost:8080/"
        },
        "id": "kmh6m9qVy3Yw",
        "outputId": "7e4e5cd9-0ce2-4e96-808c-3d875944b3f1"
      },
      "execution_count": null,
      "outputs": [
        {
          "output_type": "stream",
          "name": "stdout",
          "text": [
            "digite cualquier cosa7\n",
            "entrada de teclado es  7\n"
          ]
        }
      ]
    },
    {
      "cell_type": "markdown",
      "source": [
        "# Conversiones de texto:\n",
        "\n",
        "\n",
        "*   int(): convierte una cadena de texto en un número entero.\n",
        "*   float(): convierte una cadena de texto en un número de punto flotante.\n",
        "*   bool(): convierte un valor en un valor booleano (True o False).\n",
        "\n",
        "*   Elemento str(): convierte un objeto en una cadena de texto.\n",
        "\n",
        "\n",
        "\n"
      ],
      "metadata": {
        "id": "oaU9ltIw0OmK"
      }
    },
    {
      "cell_type": "code",
      "source": [
        "#ejemplo de conversiones entero \n",
        "\n",
        "numero=int(input(\"digite el valor \"))\n",
        "print(\"estoy imprimiendo un entero \", numero)"
      ],
      "metadata": {
        "colab": {
          "base_uri": "https://localhost:8080/"
        },
        "id": "gEOowAbZ0-Sr",
        "outputId": "58450d71-e3ef-46f1-aae8-73463ff2186b"
      },
      "execution_count": null,
      "outputs": [
        {
          "output_type": "stream",
          "name": "stdout",
          "text": [
            "digite el valor 3\n",
            "estoy imprimiendo un entero  3\n"
          ]
        }
      ]
    },
    {
      "cell_type": "code",
      "source": [
        "#ejemplo de conversiones decimal\n",
        "\n",
        "numero=float(input(\"digite el valor \"))\n",
        "print(\"estoy imprimiendo un entero \", numero)"
      ],
      "metadata": {
        "colab": {
          "base_uri": "https://localhost:8080/"
        },
        "id": "PrKegmWF1fp1",
        "outputId": "e670c1a7-6cf7-4c8a-9ed5-b655971e6bbc"
      },
      "execution_count": null,
      "outputs": [
        {
          "output_type": "stream",
          "name": "stdout",
          "text": [
            "digite el valor 3.2\n",
            "estoy imprimiendo un entero  3.2\n"
          ]
        }
      ]
    },
    {
      "cell_type": "code",
      "source": [
        "#ejemplo de conversiones booleano\n",
        "\n",
        "numero=bool(input(\"digite el valor \"))\n",
        "print(\"estoy imprimiendo un entero \", numero)"
      ],
      "metadata": {
        "colab": {
          "base_uri": "https://localhost:8080/"
        },
        "id": "MauDKlt61xoG",
        "outputId": "600ab55c-0a28-474d-f8ff-57f6c9516849"
      },
      "execution_count": null,
      "outputs": [
        {
          "output_type": "stream",
          "name": "stdout",
          "text": [
            "digite el valor -3\n",
            "estoy imprimiendo un entero  True\n"
          ]
        }
      ]
    },
    {
      "cell_type": "markdown",
      "source": [
        "Aquí hay un ejemplo de cómo utilizar la función **upper() **para convertir una cadena de texto a mayúsculas:\n",
        "texto = \"Hola, mundo!\"\n",
        "**texto_mayusculas = texto.upper()**\n",
        "**print(texto_mayusculas)  # imprime \"HOLA, MUNDO!\"**\n",
        "\n",
        "En Python, puedes convertir una cadena de caracteres de mayúsculas a minúsculas utilizando el método lower(). Este método devuelve una nueva cadena de caracteres con todas las letras en minúsculas. Aquí te muestro un ejemplo:\n",
        "**texto_mayusculas = \"ESTE TEXTO ESTA TODO EN MAYUSCULAS**\"\n",
        "**texto_minusculas = texto_mayusculas.lower()**\n",
        "**print(texto_minusculas)**\n"
      ],
      "metadata": {
        "id": "czVF6OJt2ev_"
      }
    },
    {
      "cell_type": "code",
      "source": [
        "# lo que se digite en texto lo muestra en mayuscula\n",
        "carreta=input(\"ingrese texto\")\n",
        "carreta_mayuscula=carreta.upper()\n",
        "print(carreta_mayuscula)\n"
      ],
      "metadata": {
        "colab": {
          "base_uri": "https://localhost:8080/"
        },
        "id": "1DV3Lz5A2zFy",
        "outputId": "6794b48a-c3b3-4a12-cd0a-0d0540d4982a"
      },
      "execution_count": null,
      "outputs": [
        {
          "output_type": "stream",
          "name": "stdout",
          "text": [
            "ingrese textohola como estan, examen para entre ocho dias\n",
            "HOLA COMO ESTAN, EXAMEN PARA ENTRE OCHO DIAS\n"
          ]
        }
      ]
    },
    {
      "cell_type": "code",
      "source": [
        "#conversion de texto en minuscula\n",
        "carreta=input(\"ingrese texto\")\n",
        "carreta_mayuscula=carreta.lower()\n",
        "print(carreta_mayuscula)"
      ],
      "metadata": {
        "colab": {
          "base_uri": "https://localhost:8080/"
        },
        "id": "c9FVfSig3gfv",
        "outputId": "6b10627d-bd94-451a-85a2-edea5f90ada1"
      },
      "execution_count": null,
      "outputs": [
        {
          "output_type": "stream",
          "name": "stdout",
          "text": [
            "ingrese textoMUNDO HERMOSO\n",
            "mundo hermoso\n"
          ]
        }
      ]
    },
    {
      "cell_type": "markdown",
      "source": [
        "if, if -else, if -if-elif , while y sus otras formas de implementacion, for y sus otras formas de implentar."
      ],
      "metadata": {
        "id": "zZV1eLCJ0h8V"
      }
    },
    {
      "cell_type": "code",
      "source": [
        "\"\"\"resulta que existe una discoteca que dependiendo de su edad entre a una sesion especializada rumba\n",
        "\n",
        "<18 sesion rumba adolecentes\n",
        ">=18 hasta los 30 rumba jovenes\n",
        ">=31 hasta 50 contemporania\n",
        ">=51  viejoteca\n",
        "\"\"\"\n",
        "# solucion usando IF-ELIF\n",
        "pregunta=(int(input(\"ingrese edad\")))\n",
        "\n",
        "if pregunta<18:\n",
        "  print(\"usted ingresa a rumba de jovenes niños, la chiquiteca,\")\n",
        "elif pregunta >=18 and pregunta <=30:\n",
        "      print(\"rumba jovenes\")\n",
        "elif pregunta >=31 and pregunta <=50:\n",
        "      print(\"rumba contemporania\")\n",
        "elif pregunta >=51:\n",
        "      print(\"rumba viejoteca\")\n",
        "else:\n",
        "   print(\"edad no permitida\")"
      ],
      "metadata": {
        "colab": {
          "base_uri": "https://localhost:8080/"
        },
        "id": "_3d1rKtd6KnD",
        "outputId": "ffb86ae9-1c68-48cf-8de8-22853512cd92"
      },
      "execution_count": 51,
      "outputs": [
        {
          "output_type": "stream",
          "name": "stdout",
          "text": [
            "ingrese edad44\n",
            "rumba contemporania\n"
          ]
        }
      ]
    },
    {
      "cell_type": "code",
      "source": [
        "\"\"\"solucion usando IF-Else if y este hay que estar, mosca, pilas, con los \n",
        "4 puestos en las sangrias, los espacio o sino genera errores\"\"\"\n",
        "pregunta=(int(input(\"ingrese edad\")))\n",
        "\n",
        "if pregunta<18:\n",
        "  print(\"usted ingresa a rumba de jovenes niños, la chiquiteca,\")\n",
        "else:\n",
        "  if pregunta >=18 and pregunta <=30:\n",
        "      print(\"rumba jovenes\")\n",
        "  else:\n",
        "    if pregunta >=31 and pregunta <=50:\n",
        "      print(\"rumba contemporania\")\n",
        "    else:\n",
        "      if pregunta >=51:\n",
        "          print(\"rumba viejoteca\")\n",
        "      else:\n",
        "          print(\"edad no permitida\")"
      ],
      "metadata": {
        "colab": {
          "base_uri": "https://localhost:8080/"
        },
        "id": "USi7GqcX9mBw",
        "outputId": "04842d8a-60d1-48e6-a30d-0e3d899e4964"
      },
      "execution_count": 52,
      "outputs": [
        {
          "output_type": "stream",
          "name": "stdout",
          "text": [
            "ingrese edad45\n",
            "rumba contemporania\n"
          ]
        }
      ]
    }
  ]
}